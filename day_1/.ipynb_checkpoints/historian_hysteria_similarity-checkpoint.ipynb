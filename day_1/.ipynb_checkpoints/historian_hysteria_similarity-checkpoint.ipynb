{
 "cells": [
  {
   "cell_type": "code",
   "execution_count": 38,
   "id": "f0aae5a9-57af-4e59-a766-cee56a599dcc",
   "metadata": {
    "editable": true,
    "slideshow": {
     "slide_type": ""
    },
    "tags": []
   },
   "outputs": [],
   "source": [
    "import pandas as pd\n",
    "df = pd.read_csv('data.csv')"
   ]
  },
  {
   "cell_type": "code",
   "execution_count": 50,
   "id": "e33e5e74-0bf1-42bf-9532-34e81591949b",
   "metadata": {
    "editable": true,
    "slideshow": {
     "slide_type": ""
    },
    "tags": []
   },
   "outputs": [],
   "source": [
    "arr1 = df['list1']\n",
    "arr2 = df['list2']\n",
    "summe = 0\n",
    "count = 0"
   ]
  },
  {
   "cell_type": "code",
   "execution_count": 48,
   "id": "2dc42b83-cffd-4371-8468-ba5c45893be4",
   "metadata": {
    "editable": true,
    "slideshow": {
     "slide_type": ""
    },
    "tags": []
   },
   "outputs": [],
   "source": [
    "for number in range(len(arr1)):\n",
    "    for number2 in range(len(arr2)):\n",
    "        if arr1[number] == arr2[number2]:\n",
    "            count += 1\n",
    "    summe += arr1[number] * count\n",
    "    count = 0"
   ]
  },
  {
   "cell_type": "code",
   "execution_count": 49,
   "id": "d77356ce-010d-4528-80d6-4e617baa8550",
   "metadata": {},
   "outputs": [
    {
     "name": "stdout",
     "output_type": "stream",
     "text": [
      "23177084\n"
     ]
    }
   ],
   "source": [
    "print(summe)"
   ]
  }
 ],
 "metadata": {
  "kernelspec": {
   "display_name": "Python 3 (ipykernel)",
   "language": "python",
   "name": "python3"
  },
  "language_info": {
   "codemirror_mode": {
    "name": "ipython",
    "version": 3
   },
   "file_extension": ".py",
   "mimetype": "text/x-python",
   "name": "python",
   "nbconvert_exporter": "python",
   "pygments_lexer": "ipython3",
   "version": "3.11.9"
  }
 },
 "nbformat": 4,
 "nbformat_minor": 5
}
