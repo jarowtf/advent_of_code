{
 "cells": [
  {
   "cell_type": "code",
   "execution_count": 1,
   "id": "f0aae5a9-57af-4e59-a766-cee56a599dcc",
   "metadata": {
    "editable": true,
    "slideshow": {
     "slide_type": ""
    },
    "tags": []
   },
   "outputs": [],
   "source": [
    "import pandas as pd\n",
    "df = pd.read_csv('data.csv')"
   ]
  },
  {
   "cell_type": "code",
   "execution_count": 2,
   "id": "e33e5e74-0bf1-42bf-9532-34e81591949b",
   "metadata": {
    "editable": true,
    "slideshow": {
     "slide_type": ""
    },
    "tags": []
   },
   "outputs": [],
   "source": [
    "arr1 = df['list1']\n",
    "arr2 = df['list2']\n",
    "\n",
    "summe = 0"
   ]
  },
  {
   "cell_type": "code",
   "execution_count": 3,
   "id": "76d7d6f7-544a-404f-9fff-cbcce6827562",
   "metadata": {},
   "outputs": [],
   "source": [
    "def quick_sort(arr):\n",
    "    if len(arr) <= 1:\n",
    "        return arr\n",
    "\n",
    "    pivot = arr[0]\n",
    "    smaller, equal, larger = [], [], []\n",
    "\n",
    "    for num in arr:\n",
    "        if num < pivot:\n",
    "            smaller.append(num)\n",
    "        elif num == pivot:\n",
    "            equal.append(num)\n",
    "        else:\n",
    "            larger.append(num)\n",
    "\n",
    "    return quick_sort(smaller) + equal + quick_sort(larger)"
   ]
  },
  {
   "cell_type": "code",
   "execution_count": 4,
   "id": "2dc42b83-cffd-4371-8468-ba5c45893be4",
   "metadata": {
    "editable": true,
    "slideshow": {
     "slide_type": ""
    },
    "tags": []
   },
   "outputs": [],
   "source": [
    "for number in range(len(arr1)):\n",
    "    summe += abs(quick_sort(arr1)[number] - quick_sort(arr2)[number])"
   ]
  },
  {
   "cell_type": "code",
   "execution_count": 5,
   "id": "d77356ce-010d-4528-80d6-4e617baa8550",
   "metadata": {},
   "outputs": [
    {
     "name": "stdout",
     "output_type": "stream",
     "text": [
      "2057374\n"
     ]
    }
   ],
   "source": [
    "print(summe)"
   ]
  },
  {
   "cell_type": "code",
   "execution_count": null,
   "id": "cde806a2-7729-445f-832f-e2daf648cacc",
   "metadata": {},
   "outputs": [],
   "source": []
  }
 ],
 "metadata": {
  "kernelspec": {
   "display_name": "Python 3 (ipykernel)",
   "language": "python",
   "name": "python3"
  },
  "language_info": {
   "codemirror_mode": {
    "name": "ipython",
    "version": 3
   },
   "file_extension": ".py",
   "mimetype": "text/x-python",
   "name": "python",
   "nbconvert_exporter": "python",
   "pygments_lexer": "ipython3",
   "version": "3.11.9"
  }
 },
 "nbformat": 4,
 "nbformat_minor": 5
}
